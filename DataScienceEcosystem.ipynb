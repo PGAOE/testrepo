{
 "cells": [
  {
   "cell_type": "markdown",
   "id": "c1ff26e5-2368-4b2e-8921-40b860cdc997",
   "metadata": {},
   "source": [
    "# Data Science Tools and Ecosystem"
   ]
  },
  {
   "cell_type": "markdown",
   "id": "7b405cc4-badb-4f12-af13-fefae60e70c5",
   "metadata": {},
   "source": [
    "In this notebook, Data Science Tools and Ecosystem are summarized."
   ]
  },
  {
   "cell_type": "markdown",
   "id": "a5f11bc9-c96b-4505-a920-68c1f46a078b",
   "metadata": {},
   "source": [
    "## Objectives:\n",
    "\n",
    "* **List popular languages for Data Science:** .\n",
    "* **List commonly used libraries used by Data Scientists:** \n",
    "* **Table of Data Science Tools:** "
   ]
  },
  {
   "cell_type": "markdown",
   "id": "0a1e259e-b6d8-4dcb-b5e8-cf89c30d96f3",
   "metadata": {},
   "source": [
    "Some of the popular languages that Data Scientists use are:\n",
    "\n",
    "1. **Python:** A versatile language with a rich ecosystem of libraries like NumPy, Pandas, Matplotlib, and Scikit-learn, making it a popular choice for data analysis, machine learning, and data visualization.\n",
    "2. **R:** A statistical programming language specifically designed for data analysis and visualization. It offers powerful statistical modeling capabilities and is widely used in academic research.\n",
    "3. **SQL:** While not a general-purpose programming language, SQL is essential for working with relational databases. It's used to query, manipulate, and extract data from databases, which is a crucial step in many data science projects.\n",
    "4. **Julia:** A high-performance language designed for numerical computing and scientific computing. It's gaining popularity in the data science community for its speed and ease of use."
   ]
  },
  {
   "cell_type": "markdown",
   "id": "896288f8-6377-4a27-8b03-7ee24ac47c2a",
   "metadata": {},
   "source": [
    "Some of the commonly used libraries used by Data Scientists include:\n",
    "\n",
    "1. **Numpy:** For numerical computations and array operations.\n",
    "2. **Pandas:** For data manipulation and analysis.\n",
    "3. **ggplot2:** For data visualization.\n",
    "4. **caret:** A machine learning package."
   ]
  },
  {
   "cell_type": "markdown",
   "id": "13fa7c4a-5026-42f1-aba8-2c466b9fae69",
   "metadata": {},
   "source": [
    "| Data Science Tools| \n",
    "|:--------:|\n",
    "|Jupyter Notebook|  \n",
    "|RStudio|  \n",
    "|Visual Studio Code| \n",
    "|Google Colaboratory| "
   ]
  },
  {
   "cell_type": "markdown",
   "id": "17f7ae72-4987-46f9-91e2-e7d6b5b6793e",
   "metadata": {},
   "source": [
    "### Below are a few examples of evaluating arithmetic expressions in Python"
   ]
  },
  {
   "cell_type": "code",
   "execution_count": 107,
   "id": "4ea88814-c83d-4e82-8aa7-882355fa4a09",
   "metadata": {},
   "outputs": [
    {
     "name": "stdout",
     "output_type": "stream",
     "text": [
      "17\n"
     ]
    }
   ],
   "source": [
    "# This is a simple arithmetic expression to multiply then add integers.\n",
    "result = (3 * 4) + 5\n",
    "print(result)\n",
    "\n",
    "\n"
   ]
  },
  {
   "cell_type": "code",
   "execution_count": 109,
   "id": "4500be26-2286-4c32-ac74-5b20444532c5",
   "metadata": {},
   "outputs": [
    {
     "name": "stdout",
     "output_type": "stream",
     "text": [
      "3.3333333333333335\n"
     ]
    }
   ],
   "source": [
    "# This will convert 200 minutes to hours by dividing by 60.\n",
    "hours = 200 / 60\n",
    "print(hours)"
   ]
  },
  {
   "cell_type": "markdown",
   "id": "5ff03110-3426-445e-9e9e-6b01152f64c3",
   "metadata": {},
   "source": [
    "## Author:\n",
    "Paul Glenn"
   ]
  },
  {
   "cell_type": "code",
   "execution_count": null,
   "id": "55dcbc21-36a2-4e77-9b02-6dfb071182e3",
   "metadata": {},
   "outputs": [],
   "source": []
  }
 ],
 "metadata": {
  "kernelspec": {
   "display_name": "Python 3 (ipykernel)",
   "language": "python",
   "name": "python3"
  },
  "language_info": {
   "codemirror_mode": {
    "name": "ipython",
    "version": 3
   },
   "file_extension": ".py",
   "mimetype": "text/x-python",
   "name": "python",
   "nbconvert_exporter": "python",
   "pygments_lexer": "ipython3",
   "version": "3.12.7"
  }
 },
 "nbformat": 4,
 "nbformat_minor": 5
}
